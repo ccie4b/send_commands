{
 "cells": [
  {
   "cell_type": "code",
   "execution_count": 29,
   "metadata": {},
   "outputs": [],
   "source": [
    "from netmiko import ConnectHandler\n",
    "tag = 0"
   ]
  },
  {
   "cell_type": "code",
   "execution_count": 2,
   "metadata": {},
   "outputs": [
    {
     "name": "stdout",
     "output_type": "stream",
     "text": [
      "password: ········\n"
     ]
    }
   ],
   "source": [
    "import getpass\n",
    "password = getpass.getpass('password: ')"
   ]
  },
  {
   "cell_type": "code",
   "execution_count": 52,
   "metadata": {},
   "outputs": [],
   "source": [
    "device_list = [\n",
    "    \"VARSUA01\",\n",
    "    \"VARSUA02\",\n",
    "]"
   ]
  },
  {
   "cell_type": "code",
   "execution_count": 41,
   "metadata": {},
   "outputs": [],
   "source": [
    "# Find the Loopback IP\n",
    "command = \"show run int lo0 | i ip.ad\"\n",
    "tag = 1"
   ]
  },
  {
   "cell_type": "code",
   "execution_count": 50,
   "metadata": {},
   "outputs": [],
   "source": [
    "# Find the CSM and SIP interfaces\n",
    "command = \"show int description | e down\"\n",
    "tag = 1"
   ]
  },
  {
   "cell_type": "code",
   "execution_count": 37,
   "metadata": {},
   "outputs": [
    {
     "name": "stdout",
     "output_type": "stream",
     "text": [
      "Enter the interface Gi1/5\n"
     ]
    }
   ],
   "source": [
    "# Find the CSM IP\n",
    "interface = input(\"Enter the interface \")\n",
    "command = \"show run int \" + interface + \" | i ip.ad\"\n",
    "tag = 1"
   ]
  },
  {
   "cell_type": "code",
   "execution_count": 10,
   "metadata": {},
   "outputs": [],
   "source": [
    "# Southbound; Find the partner BGP info and received routes\n",
    "command = \"show ip bgp summary\"\n",
    "tag = 2"
   ]
  },
  {
   "cell_type": "code",
   "execution_count": 47,
   "metadata": {},
   "outputs": [],
   "source": [
    "# Northbound;  Find the connected BR, the VRF, and the import/export RT\n",
    "command = \"show cdp neigh | i ^BR\"\n",
    "tag = 3\n",
    "def action1(output):\n",
    "    return (output.split(\".\")[0])"
   ]
  },
  {
   "cell_type": "code",
   "execution_count": 53,
   "metadata": {
    "scrolled": false
   },
   "outputs": [
    {
     "name": "stdout",
     "output_type": "stream",
     "text": [
      "VARSUA01\n",
      "Interface                      Status         Protocol Description\n",
      "Vl1                            up             up       \n",
      "Gi1/0/2                        up             up       Sutherland_0001.001_SuthAshburn_ROU_G111-1-26_GlobalCare\n",
      "Gi1/0/5                        up             up       To CSMSUA01_Net1\n",
      "Gi1/0/8                        up             up       Sutherland_0001.001_SUTHASHBURN_SBC_G111-1-27_GlobalCare\n",
      "Gi1/0/46                       up             up       connection to VARSUA02 port GigabitEthernet1/0/46\n",
      "Gi1/0/47                       up             up       connection to VARSUA02 port GigabitEthernet1/0/47\n",
      "Gi1/0/48                       up             up       connection to VARSUA02 port GigabitEthernet1/0/48\n",
      "Te1/1/1                        up             up       Uplink to T-Mobile BRXSYO01-Gi1/0/5 T00001GBESYOSNYGNASBNVA67\n",
      "Ap1/0/1                        up             up       \n",
      "Po111                          up             up       Cross-over_to_VARSUA02\n",
      "Lo0                            up             up       source interface\n",
      "********************************\n",
      "VARSUA02\n",
      "Interface                      Status         Protocol Description\n",
      "Vl1                            up             up       \n",
      "Gi1/0/2                        up             up       Sutherland_0001.001_SuthAshburn_ROU_G112-1-12_GlobalCare\n",
      "Gi1/0/8                        up             up       Sutherland_0001.001_SUTHASHBURN_SBC_G112-1-13_GlobalCare\n",
      "Gi1/0/46                       up             up       connection to VARSUA01 port GigabitEthernet1/0/46\n",
      "Gi1/0/47                       up             up       connection to VARSUA01 port GigabitEthernet1/0/47\n",
      "Gi1/0/48                       up             up       connection to VARSUA01 port GigabitEthernet1/0/48\n",
      "Te1/1/1                        up             up       Uplink to T-Mobile BRXWAY01-Gi1/0/5 T00001GBEWAYNNJAWASBNVA67\n",
      "Ap1/0/1                        up             up       \n",
      "Po111                          up             up       Cross-over_to_VARSUA01\n",
      "Lo0                            up             up       source interface\n",
      "********************************\n"
     ]
    }
   ],
   "source": [
    "for device in device_list:\n",
    "    device_dict = { \n",
    "        \"host\": device,\n",
    "        \"username\": \"bsmithson\",\n",
    "        \"password\": password,\n",
    "        \"device_type\": \"cisco_ios\",\n",
    "    }\n",
    "    try:\n",
    "        with ConnectHandler(**device_dict) as net_connect:\n",
    "            output = net_connect.send_command(command)\n",
    "        if tag == 1:\n",
    "            print(device)\n",
    "            print(output)\n",
    "            print(\"********************************\")\n",
    "\n",
    "        \n",
    "        elif tag == 2:\n",
    "            print(device)\n",
    "            print(output)\n",
    "            neighbor=input(\"Enter the BGP neighbor \")\n",
    "            with ConnectHandler(**device_dict) as net_connect:\n",
    "                output1 = net_connect.send_command(\"show ip bgp neigh \" + neighbor + \" routes\")\n",
    "                print(output1)\n",
    "                print(\"********************************\")\n",
    "        \n",
    "        elif tag == 3:\n",
    "            print(device)\n",
    "            BR_name=action1(output)\n",
    "            print(BR_name)\n",
    "            remote_conn = ConnectHandler(device_type=\"cisco_ios\",\n",
    "                                        host=BR_name,\n",
    "                                        password=password,\n",
    "                                        username=\"bsmithson\")\n",
    "            print(remote_conn.send_command(\"show vrf\"))\n",
    "            vrf = input(\"Enter the VRF \")\n",
    "            print(remote_conn.send_command(\"show run vrf \" + vrf + \" | i export|import\"))\n",
    "            print(\"********************************\")\n",
    "               \n",
    "    except:\n",
    "        print(device)\n",
    "        print(\"Issue!  Could not connect\")\n",
    "        print(\"********************************\")\n",
    "        pass"
   ]
  }
 ],
 "metadata": {
  "kernelspec": {
   "display_name": "Python 3",
   "language": "python",
   "name": "python3"
  },
  "language_info": {
   "codemirror_mode": {
    "name": "ipython",
    "version": 3
   },
   "file_extension": ".py",
   "mimetype": "text/x-python",
   "name": "python",
   "nbconvert_exporter": "python",
   "pygments_lexer": "ipython3",
   "version": "3.8.3"
  }
 },
 "nbformat": 4,
 "nbformat_minor": 4
}
